{
 "cells": [
  {
   "cell_type": "code",
   "execution_count": 2,
   "metadata": {
    "collapsed": true
   },
   "outputs": [],
   "source": [
    "import pandas as pd"
   ]
  },
  {
   "cell_type": "code",
   "execution_count": 8,
   "metadata": {
    "collapsed": true
   },
   "outputs": [],
   "source": [
    "df = pd.read_json(\"./gangnam2.json\")"
   ]
  },
  {
   "cell_type": "code",
   "execution_count": 10,
   "metadata": {},
   "outputs": [
    {
     "name": "stdout",
     "output_type": "stream",
     "text": [
      "bloggerlink    200\n",
      "bloggername    200\n",
      "description    200\n",
      "link           200\n",
      "postdate       200\n",
      "title          200\n",
      "dtype: int64\n"
     ]
    }
   ],
   "source": [
    "print(df.count())"
   ]
  },
  {
   "cell_type": "code",
   "execution_count": 13,
   "metadata": {},
   "outputs": [
    {
     "name": "stdout",
     "output_type": "stream",
     "text": [
      "                                                 bloggerlink  description  \\\n",
      "bloggername                                                                 \n",
      "-에르르네 집。                                                   1            1   \n",
      "09x43                                                      1            1   \n",
      "101번째 타르트                                                  2            2   \n",
      ":P                                                         1            1   \n",
      "ALOHOMORA                                                  1            1   \n",
      "AS I PLEASE :  by 유고-.                                     1            1   \n",
      "Attractive shim                                            1            1   \n",
      "BERRY GO ROUND                                             1            1   \n",
      "DOLZA'S EAT&JOY!                                           1            1   \n",
      "Elly Blog                                                  1            1   \n",
      "Elyan's Sight                                              1            1   \n",
      "Ever thine, Ever mine, Ever ours.                          1            1   \n",
      "Excellent from God                                         2            2   \n",
      "GRACE's lov diary                                          2            2   \n",
      "Grace's story                                              1            1   \n",
      "Healing Eyes                                               1            1   \n",
      "Heizy                                                      1            1   \n",
      "I am a different brand                                     1            1   \n",
      "J+J HAPPY DAY                                              1            1   \n",
      "JIAEFOLIO                                                  1            1   \n",
      "La vie en rose ◡̈                                          1            1   \n",
      "Let's Go Fashion World~♡                                   1            1   \n",
      "Love the Life You Live, Live the Life You Love.            1            1   \n",
      "Luna의 세계여행                                                 1            1   \n",
      "Minimum Rich                                               1            1   \n",
      "Now we go!                                                 1            1   \n",
      "Only on date                                               1            1   \n",
      "PHOTO.SAYS.HELLO                                           1            1   \n",
      "Review World                                               1            1   \n",
      "S u m m e r d a y                                          1            1   \n",
      "...                                                      ...          ...   \n",
      "인뚱이 부로구                                                    1            1   \n",
      "인생에 매력 묻히기                                                 1            1   \n",
      "인생은 짧다                                                     1            1   \n",
      "일상.....나만의공간★                                              1            1   \n",
      "잉여로운 삶 by 스마일밍아 ☆                                          1            1   \n",
      "자신의 자리에서 빛나는 사람                                            1            1   \n",
      "쟈쟈졔의 여행 라이프                                                1            1   \n",
      "전주 꼬숩네 매니저                                                 1            1   \n",
      "제나의 일상리뷰                                                   1            1   \n",
      "제으니의 블로그                                                   1            1   \n",
      "제이미스타일 동탄3호점 N 네일                                          1            1   \n",
      "졍이의 데일리 로그                                                 1            1   \n",
      "조소통씨                                                       1            1   \n",
      "지극히 주관적인 블로그                                               1            1   \n",
      "짱세 일상                                                      1            1   \n",
      "쭌민이네 즐거운 일상                                                1            1   \n",
      "찌주의 데일리블로그 ♡                                               2            2   \n",
      "파닥's 여행하는 일상                                               3            3   \n",
      "패션블로거 미오                                                   1            1   \n",
      "하늘 연달의 소소한 일상                                              1            1   \n",
      "하하하                                                        1            1   \n",
      "햇태공간                                                       1            1   \n",
      "행복 달달 샤페이 메주 간장네 :) - PART.2 -                             1            1   \n",
      "행운의 여신♥ 긍정적인마인드 :)                                         1            1   \n",
      "허브향 가득 퀘럼네 베란다정원                                           3            3   \n",
      "홍언니네                                                       1            1   \n",
      "황궁궐-그게나야                                                   1            1   \n",
      "후니의 탐나는 라이프                                                1            1   \n",
      "흥청망청 후이로그                                                  1            1   \n",
      "힘찬이네 블로그                                                   1            1   \n",
      "\n",
      "                                                 link  postdate  title  \n",
      "bloggername                                                             \n",
      "-에르르네 집。                                            1         1      1  \n",
      "09x43                                               1         1      1  \n",
      "101번째 타르트                                           2         2      2  \n",
      ":P                                                  1         1      1  \n",
      "ALOHOMORA                                           1         1      1  \n",
      "AS I PLEASE :  by 유고-.                              1         1      1  \n",
      "Attractive shim                                     1         1      1  \n",
      "BERRY GO ROUND                                      1         1      1  \n",
      "DOLZA'S EAT&JOY!                                    1         1      1  \n",
      "Elly Blog                                           1         1      1  \n",
      "Elyan's Sight                                       1         1      1  \n",
      "Ever thine, Ever mine, Ever ours.                   1         1      1  \n",
      "Excellent from God                                  2         2      2  \n",
      "GRACE's lov diary                                   2         2      2  \n",
      "Grace's story                                       1         1      1  \n",
      "Healing Eyes                                        1         1      1  \n",
      "Heizy                                               1         1      1  \n",
      "I am a different brand                              1         1      1  \n",
      "J+J HAPPY DAY                                       1         1      1  \n",
      "JIAEFOLIO                                           1         1      1  \n",
      "La vie en rose ◡̈                                   1         1      1  \n",
      "Let's Go Fashion World~♡                            1         1      1  \n",
      "Love the Life You Live, Live the Life You Love.     1         1      1  \n",
      "Luna의 세계여행                                          1         1      1  \n",
      "Minimum Rich                                        1         1      1  \n",
      "Now we go!                                          1         1      1  \n",
      "Only on date                                        1         1      1  \n",
      "PHOTO.SAYS.HELLO                                    1         1      1  \n",
      "Review World                                        1         1      1  \n",
      "S u m m e r d a y                                   1         1      1  \n",
      "...                                               ...       ...    ...  \n",
      "인뚱이 부로구                                             1         1      1  \n",
      "인생에 매력 묻히기                                          1         1      1  \n",
      "인생은 짧다                                              1         1      1  \n",
      "일상.....나만의공간★                                       1         1      1  \n",
      "잉여로운 삶 by 스마일밍아 ☆                                   1         1      1  \n",
      "자신의 자리에서 빛나는 사람                                     1         1      1  \n",
      "쟈쟈졔의 여행 라이프                                         1         1      1  \n",
      "전주 꼬숩네 매니저                                          1         1      1  \n",
      "제나의 일상리뷰                                            1         1      1  \n",
      "제으니의 블로그                                            1         1      1  \n",
      "제이미스타일 동탄3호점 N 네일                                   1         1      1  \n",
      "졍이의 데일리 로그                                          1         1      1  \n",
      "조소통씨                                                1         1      1  \n",
      "지극히 주관적인 블로그                                        1         1      1  \n",
      "짱세 일상                                               1         1      1  \n",
      "쭌민이네 즐거운 일상                                         1         1      1  \n",
      "찌주의 데일리블로그 ♡                                        2         2      2  \n",
      "파닥's 여행하는 일상                                        3         3      3  \n",
      "패션블로거 미오                                            1         1      1  \n",
      "하늘 연달의 소소한 일상                                       1         1      1  \n",
      "하하하                                                 1         1      1  \n",
      "햇태공간                                                1         1      1  \n",
      "행복 달달 샤페이 메주 간장네 :) - PART.2 -                      1         1      1  \n",
      "행운의 여신♥ 긍정적인마인드 :)                                  1         1      1  \n",
      "허브향 가득 퀘럼네 베란다정원                                    3         3      3  \n",
      "홍언니네                                                1         1      1  \n",
      "황궁궐-그게나야                                            1         1      1  \n",
      "후니의 탐나는 라이프                                         1         1      1  \n",
      "흥청망청 후이로그                                           1         1      1  \n",
      "힘찬이네 블로그                                            1         1      1  \n",
      "\n",
      "[180 rows x 5 columns]\n"
     ]
    }
   ],
   "source": [
    "#블로거 이름으로 정렬해서 count해보자.\n",
    "df_sum = df.groupby('bloggername').count()\n",
    "print(df_sum)"
   ]
  },
  {
   "cell_type": "code",
   "execution_count": 23,
   "metadata": {},
   "outputs": [
    {
     "name": "stdout",
     "output_type": "stream",
     "text": [
      "0                            비키의 소소한일상:)\n",
      "1                      권매력의 charming-DAY\n",
      "2                                우기부기블로그\n",
      "3                                  귀찮은 섭\n",
      "4                        아가리파이터의 한.술.담.끼\n",
      "5      Ever thine, Ever mine, Ever ours.\n",
      "6                               날마다 좋은 날\n",
      "7               Let's Go Fashion World~♡\n",
      "8                        자신의 자리에서 빛나는 사람\n",
      "9                             기억, 추억, 생각\n",
      "10                             그녀가 사는 세상\n",
      "11                       룰루랄라, favorance\n",
      "12                      DOLZA'S EAT&JOY!\n",
      "13                           비키의 소소한일상:)\n",
      "14                                 로민유랑단\n",
      "15                                막돼먹은찌니\n",
      "16                              orizzang\n",
      "17                          나누미의 유쾌한 나눔통\n",
      "18                          찌주의 데일리블로그 ♡\n",
      "19                                인생은 짧다\n",
      "20                             ALOHOMORA\n",
      "21                               내.몸.사.랑\n",
      "22                     GRACE's lov diary\n",
      "23                               마미새 ⓔ야기\n",
      "24                     La vie en rose ◡̈\n",
      "25                            ❤ 미래작가홀릭 ❤\n",
      "26                              패션블로거 미오\n",
      "27                                맛집깡패~♥\n",
      "28                           노는게 제일 좋아 ♬\n",
      "29        행복 달달 샤페이 메주 간장네 :) - PART.2 -\n",
      "                     ...                \n",
      "170                              신자매 블로그\n",
      "171                                Heizy\n",
      "172                 once upon a december\n",
      "173                            101번째 타르트\n",
      "174                           졍이의 데일리 로그\n",
      "175                         파닥's 여행하는 일상\n",
      "176                         구루구루's World\n",
      "177                                  란블링\n",
      "178                            흥청망청 후이로그\n",
      "179                        돈블리의 소소한 일상 ♡\n",
      "180                            벤 문의 세상살이\n",
      "181                  공익연계마케터 / 나눔실천특별위원회\n",
      "182                            알라림의 알라알라\n",
      "183                  ♥제이임당의 손으로 그리는 이야기♥\n",
      "184                             황궁궐-그게나야\n",
      "185                                 뚜벅뚜벅\n",
      "186                                   :P\n",
      "187                       양갱's 달달한 일상 :)\n",
      "188                         ♥요술핑거 꽃이 핀다♥\n",
      "189                           ㅅㅂㄹㄱ(싱블로그)\n",
      "190                            Shu의 리뷰일기\n",
      "191               I am a different brand\n",
      "192                               물구나무서기\n",
      "193                          Show U All★\n",
      "194                          박준뷰티랩 안산고잔점\n",
      "195                         어떻게 사는 게 좋아?\n",
      "196                            엄탱's 블로그♡\n",
      "197                            블롱이 아방가르드\n",
      "198               AS I PLEASE :  by 유고-.\n",
      "199                           여행같은 인생, ♥\n",
      "Name: bloggername, Length: 200, dtype: object\n"
     ]
    }
   ],
   "source": [
    "bloggernames = df['bloggername']\n",
    "print(bloggernames)"
   ]
  },
  {
   "cell_type": "code",
   "execution_count": 28,
   "metadata": {
    "collapsed": true
   },
   "outputs": [],
   "source": [
    "read = pd.DataFrame.from_dict(df['bloggername'])\n",
    "read.to_csv('./gangnam2.csv')"
   ]
  },
  {
   "cell_type": "code",
   "execution_count": 30,
   "metadata": {
    "scrolled": true
   },
   "outputs": [
    {
     "data": {
      "text/html": [
       "<div>\n",
       "<style>\n",
       "    .dataframe thead tr:only-child th {\n",
       "        text-align: right;\n",
       "    }\n",
       "\n",
       "    .dataframe thead th {\n",
       "        text-align: left;\n",
       "    }\n",
       "\n",
       "    .dataframe tbody tr th {\n",
       "        vertical-align: top;\n",
       "    }\n",
       "</style>\n",
       "<table border=\"1\" class=\"dataframe\">\n",
       "  <thead>\n",
       "    <tr style=\"text-align: right;\">\n",
       "      <th></th>\n",
       "      <th>Unnamed: 0</th>\n",
       "      <th>bloggername</th>\n",
       "    </tr>\n",
       "  </thead>\n",
       "  <tbody>\n",
       "    <tr>\n",
       "      <th>0</th>\n",
       "      <td>0</td>\n",
       "      <td>비키의 소소한일상:)</td>\n",
       "    </tr>\n",
       "    <tr>\n",
       "      <th>1</th>\n",
       "      <td>1</td>\n",
       "      <td>권매력의 charming-DAY</td>\n",
       "    </tr>\n",
       "    <tr>\n",
       "      <th>2</th>\n",
       "      <td>2</td>\n",
       "      <td>우기부기블로그</td>\n",
       "    </tr>\n",
       "    <tr>\n",
       "      <th>3</th>\n",
       "      <td>3</td>\n",
       "      <td>귀찮은 섭</td>\n",
       "    </tr>\n",
       "    <tr>\n",
       "      <th>4</th>\n",
       "      <td>4</td>\n",
       "      <td>아가리파이터의 한.술.담.끼</td>\n",
       "    </tr>\n",
       "  </tbody>\n",
       "</table>\n",
       "</div>"
      ],
      "text/plain": [
       "   Unnamed: 0        bloggername\n",
       "0           0        비키의 소소한일상:)\n",
       "1           1  권매력의 charming-DAY\n",
       "2           2            우기부기블로그\n",
       "3           3              귀찮은 섭\n",
       "4           4    아가리파이터의 한.술.담.끼"
      ]
     },
     "execution_count": 30,
     "metadata": {},
     "output_type": "execute_result"
    }
   ],
   "source": [
    "read_csv = pd.read_csv('./gangnam2.csv')\n",
    "read_csv.head()"
   ]
  },
  {
   "cell_type": "code",
   "execution_count": 26,
   "metadata": {
    "collapsed": true
   },
   "outputs": [],
   "source": [
    "# https://github.com/jungwonalicia/bigdata/blob/master/source_code/%EC%9B%B9%EC%82%AC%EC%9D%B4%ED%8A%B8%20%EC%97%AC%EB%9F%AC%20%ED%8E%98%EC%9D%B4%EC%A7%80%20%ED%81%AC%EB%A1%A4%EB%A7%81-4-1000%ED%8E%98%EC%9D%B4%EC%A7%80%EB%B6%88%EB%9F%AC%EC%99%80%ED%8C%8C%EC%9D%BC%EB%A1%9C%EC%A0%80%EC%9E%A5%ED%95%9C%20%ED%9B%84%20%ED%8C%90%EB%8B%A4%EC%8A%A4%EB%A1%9C%20%EB%B6%84%EC%84%9D.ipynb"
   ]
  },
  {
   "cell_type": "code",
   "execution_count": null,
   "metadata": {
    "collapsed": true
   },
   "outputs": [],
   "source": []
  }
 ],
 "metadata": {
  "kernelspec": {
   "display_name": "Python 3",
   "language": "python",
   "name": "python3"
  },
  "language_info": {
   "codemirror_mode": {
    "name": "ipython",
    "version": 3
   },
   "file_extension": ".py",
   "mimetype": "text/x-python",
   "name": "python",
   "nbconvert_exporter": "python",
   "pygments_lexer": "ipython3",
   "version": "3.6.2"
  }
 },
 "nbformat": 4,
 "nbformat_minor": 2
}
