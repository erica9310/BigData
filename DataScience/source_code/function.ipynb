{
 "cells": [
  {
   "cell_type": "code",
   "execution_count": null,
   "metadata": {
    "collapsed": true
   },
   "outputs": [],
   "source": [
    "from tkinter import *"
   ]
  },
  {
   "cell_type": "code",
   "execution_count": 7,
   "metadata": {},
   "outputs": [
    {
     "name": "stdout",
     "output_type": "stream",
     "text": [
      "f1호출하셨습니다.\n",
      "실행될 코드: \n"
     ]
    }
   ],
   "source": [
    "def f1():\n",
    "    print(\"f1호출하셨습니다.\")\n",
    "    print(\"실행될 코드: \")\n",
    "\n",
    "f1()"
   ]
  },
  {
   "cell_type": "code",
   "execution_count": 8,
   "metadata": {},
   "outputs": [
    {
     "name": "stdout",
     "output_type": "stream",
     "text": [
      "f2 호출하셨습니다.\n",
      "실행될 코드: \n",
      "f3 호출하셨습니다.\n",
      "실행될 코드: \n"
     ]
    }
   ],
   "source": [
    "def f2():\n",
    "    print(\"f2 호출하셨습니다.\")\n",
    "    print(\"실행될 코드: \")\n",
    "\n",
    "\n",
    "def f3():\n",
    "    print(\"f3 호출하셨습니다.\")\n",
    "    print(\"실행될 코드: \")\n",
    "\n",
    "f2()\n",
    "f3()"
   ]
  },
  {
   "cell_type": "code",
   "execution_count": 34,
   "metadata": {},
   "outputs": [
    {
     "name": "stdout",
     "output_type": "stream",
     "text": [
      "f1호출하셨습니다.\n",
      "실행될 코드: \n"
     ]
    }
   ],
   "source": [
    "f1()\n"
   ]
  },
  {
   "cell_type": "code",
   "execution_count": null,
   "metadata": {
    "collapsed": true
   },
   "outputs": [],
   "source": [
    "def call(event):\n",
    "    print(\"버튼실행\")\n",
    "    a = 100\n",
    "    c = 200\n",
    "    print(a+c)\n",
    "\n",
    "w = Tk()\n",
    "b = Button(w, text = \"합계를 구해주세요.\")\n",
    "b.pack()\n",
    "\n",
    "b.bind(\"<Button-1>\", call)\n",
    "\n",
    "w.mainloop()"
   ]
  },
  {
   "cell_type": "code",
   "execution_count": null,
   "metadata": {
    "collapsed": true
   },
   "outputs": [],
   "source": []
  },
  {
   "cell_type": "code",
   "execution_count": null,
   "metadata": {
    "collapsed": true
   },
   "outputs": [],
   "source": []
  }
 ],
 "metadata": {
  "kernelspec": {
   "display_name": "Python 3",
   "language": "python",
   "name": "python3"
  },
  "language_info": {
   "codemirror_mode": {
    "name": "ipython",
    "version": 3
   },
   "file_extension": ".py",
   "mimetype": "text/x-python",
   "name": "python",
   "nbconvert_exporter": "python",
   "pygments_lexer": "ipython3",
   "version": "3.6.2"
  }
 },
 "nbformat": 4,
 "nbformat_minor": 2
}
