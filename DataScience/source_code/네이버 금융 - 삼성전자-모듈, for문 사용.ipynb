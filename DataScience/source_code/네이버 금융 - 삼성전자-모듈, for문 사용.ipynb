{
 "cells": [
  {
   "cell_type": "code",
   "execution_count": 25,
   "metadata": {},
   "outputs": [],
   "source": [
    "import mymodule.naver_finance_crawler2 as fin\n"
   ]
  },
  {
   "cell_type": "code",
   "execution_count": 26,
   "metadata": {
    "collapsed": true
   },
   "outputs": [],
   "source": [
    "company = [\"005930\",\"000660\", \"005680\"]"
   ]
  },
  {
   "cell_type": "code",
   "execution_count": 27,
   "metadata": {},
   "outputs": [
    {
     "name": "stdout",
     "output_type": "stream",
     "text": [
      "005930\n",
      "000660\n",
      "005680\n"
     ]
    }
   ],
   "source": [
    "for i in company:\n",
    "    print(i)"
   ]
  },
  {
   "cell_type": "code",
   "execution_count": 28,
   "metadata": {},
   "outputs": [
    {
     "name": "stdout",
     "output_type": "stream",
     "text": [
      "005930 40,500\n",
      "000660 65,100\n",
      "005680 11,550\n"
     ]
    }
   ],
   "source": [
    "for i in company:\n",
    "    price = fin.finance2(i)\n",
    "    print(i, price)"
   ]
  },
  {
   "cell_type": "code",
   "execution_count": 29,
   "metadata": {
    "collapsed": true
   },
   "outputs": [],
   "source": [
    "company_name = [\"삼성전자\", \"SK하이닉스\", \"삼영전자\"]"
   ]
  },
  {
   "cell_type": "code",
   "execution_count": 30,
   "metadata": {},
   "outputs": [
    {
     "name": "stdout",
     "output_type": "stream",
     "text": [
      "삼성전자 005930 40,500\n",
      "SK하이닉스 000660 65,100\n",
      "삼영전자 005680 11,550\n"
     ]
    }
   ],
   "source": [
    "count = 0\n",
    "for i in company:\n",
    "    price = fin.finance2(i)\n",
    "    print(company_name[count], i, price)\n",
    "    count+=1"
   ]
  }
 ],
 "metadata": {
  "kernelspec": {
   "display_name": "Python 3",
   "language": "python",
   "name": "python3"
  },
  "language_info": {
   "codemirror_mode": {
    "name": "ipython",
    "version": 3
   },
   "file_extension": ".py",
   "mimetype": "text/x-python",
   "name": "python",
   "nbconvert_exporter": "python",
   "pygments_lexer": "ipython3",
   "version": "3.6.2"
  }
 },
 "nbformat": 4,
 "nbformat_minor": 2
}
