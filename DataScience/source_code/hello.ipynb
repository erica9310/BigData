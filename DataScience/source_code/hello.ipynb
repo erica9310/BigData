{
 "cells": [
  {
   "cell_type": "code",
   "execution_count": 1,
   "metadata": {},
   "outputs": [
    {
     "name": "stdout",
     "output_type": "stream",
     "text": [
      "hello\n"
     ]
    }
   ],
   "source": [
    "print(\"hello\")\n"
   ]
  },
  {
   "cell_type": "code",
   "execution_count": 1,
   "metadata": {
    "collapsed": true
   },
   "outputs": [],
   "source": [
    "a = 100"
   ]
  },
  {
   "cell_type": "code",
   "execution_count": 2,
   "metadata": {
    "collapsed": true
   },
   "outputs": [],
   "source": [
    "b = 200"
   ]
  },
  {
   "cell_type": "code",
   "execution_count": 3,
   "metadata": {},
   "outputs": [
    {
     "data": {
      "text/plain": [
       "300"
      ]
     },
     "execution_count": 3,
     "metadata": {},
     "output_type": "execute_result"
    }
   ],
   "source": [
    "a + b"
   ]
  },
  {
   "cell_type": "code",
   "execution_count": 4,
   "metadata": {
    "collapsed": true
   },
   "outputs": [],
   "source": [
    "subject = [\"안드로이드\", \"파이썬\", \"자바\"]"
   ]
  },
  {
   "cell_type": "code",
   "execution_count": 5,
   "metadata": {},
   "outputs": [
    {
     "data": {
      "text/plain": [
       "['안드로이드', '파이썬', '자바']"
      ]
     },
     "execution_count": 5,
     "metadata": {},
     "output_type": "execute_result"
    }
   ],
   "source": [
    "subject"
   ]
  },
  {
   "cell_type": "code",
   "execution_count": 6,
   "metadata": {},
   "outputs": [
    {
     "data": {
      "text/plain": [
       "'파이썬'"
      ]
     },
     "execution_count": 6,
     "metadata": {},
     "output_type": "execute_result"
    }
   ],
   "source": [
    "subject[1]"
   ]
  },
  {
   "cell_type": "code",
   "execution_count": 7,
   "metadata": {
    "collapsed": true
   },
   "outputs": [],
   "source": [
    "#실행: shift + enter\n",
    "#주석: #\n",
    "#셀 삽입: alt+enter\n",
    "#저장: ctrl + s"
   ]
  },
  {
   "cell_type": "code",
   "execution_count": 10,
   "metadata": {},
   "outputs": [
    {
     "name": "stdout",
     "output_type": "stream",
     "text": [
      "감자\n",
      "복숭아\n"
     ]
    }
   ],
   "source": [
    "c = \"감자\"\n",
    "d= \"복숭아\"\n",
    "print(c)\n",
    "print(d)"
   ]
  },
  {
   "cell_type": "code",
   "execution_count": 12,
   "metadata": {},
   "outputs": [
    {
     "data": {
      "text/plain": [
       "['안드로이드', '파이썬', '자바']"
      ]
     },
     "execution_count": 12,
     "metadata": {},
     "output_type": "execute_result"
    }
   ],
   "source": [
    "subject"
   ]
  },
  {
   "cell_type": "code",
   "execution_count": 13,
   "metadata": {},
   "outputs": [
    {
     "data": {
      "text/plain": [
       "3"
      ]
     },
     "execution_count": 13,
     "metadata": {},
     "output_type": "execute_result"
    }
   ],
   "source": [
    "len(subject)"
   ]
  },
  {
   "cell_type": "code",
   "execution_count": 18,
   "metadata": {},
   "outputs": [
    {
     "name": "stdout",
     "output_type": "stream",
     "text": [
      "안드로이드\n",
      "파이썬\n",
      "자바\n",
      "=========\n"
     ]
    }
   ],
   "source": [
    "for a in subject:\n",
    "    print(a);\n",
    "\n",
    "print(\"=========\")\n"
   ]
  },
  {
   "cell_type": "code",
   "execution_count": 19,
   "metadata": {},
   "outputs": [
    {
     "name": "stdout",
     "output_type": "stream",
     "text": [
      "안드로이드\n",
      "파이썬\n",
      "자바\n"
     ]
    }
   ],
   "source": [
    "for i in range(len(subject)):\n",
    "    print(subject[i])\n",
    "    \n",
    "#인덱스 길이까지만 반복명령, index 값을 하나씩 보여지게"
   ]
  },
  {
   "cell_type": "code",
   "execution_count": 29,
   "metadata": {},
   "outputs": [
    {
     "data": {
      "text/plain": [
       "['감자', '고구마', '양파']"
      ]
     },
     "execution_count": 29,
     "metadata": {},
     "output_type": "execute_result"
    }
   ],
   "source": [
    "food = [\"감자\", \"고구마\", \"양파\"]\n",
    "food"
   ]
  },
  {
   "cell_type": "code",
   "execution_count": 30,
   "metadata": {},
   "outputs": [
    {
     "name": "stdout",
     "output_type": "stream",
     "text": [
      "음식을 입력해주세요.피자\n"
     ]
    },
    {
     "data": {
      "text/plain": [
       "['감자', '고구마', '피자']"
      ]
     },
     "execution_count": 30,
     "metadata": {},
     "output_type": "execute_result"
    }
   ],
   "source": [
    "food[2] = input(\"음식을 입력해주세요.\")\n",
    "food"
   ]
  },
  {
   "cell_type": "code",
   "execution_count": 31,
   "metadata": {},
   "outputs": [
    {
     "data": {
      "text/plain": [
       "['감자', '고구마', '피자', '우유']"
      ]
     },
     "execution_count": 31,
     "metadata": {},
     "output_type": "execute_result"
    }
   ],
   "source": [
    "food.append(\"우유\")\n",
    "food"
   ]
  },
  {
   "cell_type": "code",
   "execution_count": 32,
   "metadata": {},
   "outputs": [
    {
     "data": {
      "text/plain": [
       "['고구마', '피자', '우유']"
      ]
     },
     "execution_count": 32,
     "metadata": {},
     "output_type": "execute_result"
    }
   ],
   "source": [
    "food.remove(food[0])\n",
    "food"
   ]
  },
  {
   "cell_type": "code",
   "execution_count": 33,
   "metadata": {
    "collapsed": true
   },
   "outputs": [],
   "source": [
    "# 키 : 값\n",
    "#딕셔너리라는 형태의 구조에 넣는 것 (리스트 값에 못 넣어)"
   ]
  },
  {
   "cell_type": "code",
   "execution_count": 34,
   "metadata": {
    "collapsed": true
   },
   "outputs": [],
   "source": [
    "#리스트 = R의 벡터"
   ]
  },
  {
   "cell_type": "code",
   "execution_count": 35,
   "metadata": {
    "collapsed": true
   },
   "outputs": [],
   "source": [
    "import random"
   ]
  },
  {
   "cell_type": "code",
   "execution_count": 38,
   "metadata": {},
   "outputs": [
    {
     "data": {
      "text/plain": [
       "47"
      ]
     },
     "execution_count": 38,
     "metadata": {},
     "output_type": "execute_result"
    }
   ],
   "source": [
    "number = random.randint(1, 100)\n",
    "number"
   ]
  },
  {
   "cell_type": "code",
   "execution_count": 45,
   "metadata": {},
   "outputs": [
    {
     "name": "stdout",
     "output_type": "stream",
     "text": [
      "1부터 100 사이의 숫자를 맞춰주세요.\n",
      "숫자를 입력하세요.45\n",
      "틀렸습니다.\n",
      "45보다 작음\n",
      "숫자를 입력하세요.30\n",
      "틀렸습니다.\n",
      "30보다 큼\n",
      "숫자를 입력하세요.43\n",
      "틀렸습니다.\n",
      "43보다 작음\n",
      "숫자를 입력하세요.35\n",
      "틀렸습니다.\n",
      "35보다 큼\n",
      "숫자를 입력하세요.39\n",
      "틀렸습니다.\n",
      "39보다 작음\n",
      "숫자를 입력하세요.38\n",
      "정답입니다.\n"
     ]
    }
   ],
   "source": [
    "number = random.randint(1, 100)\n",
    "number\n",
    "\n",
    "print(\"1부터 100 사이의 숫자를 맞춰주세요.\")\n",
    "tries = 0\n",
    "\n",
    "while tries < 10:\n",
    "    guess = int(input(\"숫자를 입력하세요.\"))\n",
    "    tries += 1\n",
    "    if guess == number:\n",
    "        print(\"정답입니다.\")\n",
    "        break\n",
    "    else:\n",
    "        print(\"틀렸습니다.\")\n",
    "        if guess < number :\n",
    "            print(str(guess) + \"보다 큼\")\n",
    "        elif guess > number :\n",
    "            print(str(guess) + \"보다 작음\")\n",
    "            "
   ]
  },
  {
   "cell_type": "code",
   "execution_count": null,
   "metadata": {
    "collapsed": true
   },
   "outputs": [],
   "source": []
  }
 ],
 "metadata": {
  "kernelspec": {
   "display_name": "Python 3",
   "language": "python",
   "name": "python3"
  },
  "language_info": {
   "codemirror_mode": {
    "name": "ipython",
    "version": 3
   },
   "file_extension": ".py",
   "mimetype": "text/x-python",
   "name": "python",
   "nbconvert_exporter": "python",
   "pygments_lexer": "ipython3",
   "version": "3.6.2"
  }
 },
 "nbformat": 4,
 "nbformat_minor": 2
}
